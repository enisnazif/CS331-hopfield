{
 "cells": [
  {
   "cell_type": "code",
   "execution_count": 134,
   "metadata": {
    "collapsed": false
   },
   "outputs": [],
   "source": [
    "import numpy as np\n",
    "import itertools\n",
    "import matplotlib.pyplot as plt\n",
    "\n",
    "init = [[1, 1, 1, 0, 0, 1, 1, 0, 1], [1, 0, 0, 1, 0, 1, 0, 0, 1],\n",
    "[1, 1, 0, 0, 1, 0, 0, 0, 1], [0, 0, 0, 1, 0, 1, 0, 1, 1],\n",
    "[1, 0, 0, 1, 0, 0, 0, 0, 0], [1, 1, 0, 1, 1, 0, 1, 1, 1],\n",
    "[0, 0, 1, 0, 0, 0, 1, 1, 1], [1, 1, 0, 1, 0, 0, 0, 1, 0],\n",
    "[0, 1, 0, 1, 0, 1, 0, 0, 0], [0, 1, 0, 1, 1, 0, 1, 0, 0],\n",
    "[0, 0, 1, 0, 1, 0, 0, 0, 1], [0, 1, 0, 1, 1, 1, 0, 1, 1],\n",
    "[1, 0, 1, 1, 1, 1, 1, 1, 0], [1, 1, 0, 0, 1, 0, 1, 0, 0],\n",
    "[1, 0, 0, 1, 0, 1, 0, 0, 0], [1, 0, 0, 1, 1, 0, 0, 0, 1],\n",
    "[0, 0, 1, 0, 0, 0, 1, 0, 1], [1, 0, 0, 1, 1, 0, 1, 0, 1],\n",
    "[0, 0, 0, 0, 1, 0, 1, 1, 1], [1, 0, 0, 1, 1, 0, 0, 1, 0]]"
   ]
  },
  {
   "cell_type": "code",
   "execution_count": 36,
   "metadata": {
    "collapsed": true
   },
   "outputs": [],
   "source": [
    "### Binary Threshold function\n",
    "def vector_threshold(x):\n",
    "    return np.round(0.5 + 0.5*np.sign(x)).astype(int)"
   ]
  },
  {
   "cell_type": "code",
   "execution_count": 37,
   "metadata": {
    "collapsed": true
   },
   "outputs": [],
   "source": [
    "### Initialise the weight matrix with inhibition constant I\n",
    "def initialise_weights(I):\n",
    "    # Declare an empty array\n",
    "    weight_matrix = np.empty([9, 9], dtype=float)\n",
    "    # Fill the matrix with negative inhibition constants\n",
    "    weight_matrix.fill(-I)\n",
    "    # Set the weights by the Hebb Rule for the patterns we wish to store\n",
    "    weight_matrix[np.ix_([1],[4,7])] = 1\n",
    "    weight_matrix[np.ix_([4],[1,3,5,7])] = 1\n",
    "    weight_matrix[np.ix_([7],[1,4])] = 1\n",
    "    weight_matrix[np.ix_([3],[4,5])] = 1\n",
    "    weight_matrix[np.ix_([5],[4,3])] = 1\n",
    "    # Set all the elements on the leading diagonal to 0, since w_ii = 0 for all i in a Hopfield Network\n",
    "    np.fill_diagonal(weight_matrix, 0)\n",
    "    return weight_matrix\n"
   ]
  },
  {
   "cell_type": "code",
   "execution_count": 38,
   "metadata": {
    "collapsed": true
   },
   "outputs": [],
   "source": [
    "### Network energy function that calculates the total energy in the network for a given state\n",
    "def energy(state):\n",
    "    state = np.matrix(state)\n",
    "    e = 0\n",
    "    for i in range(weight_matrix.shape[0]):\n",
    "        for j in range(weight_matrix.shape[1]):\n",
    "            e += weight_matrix[i,j]*state[0,i]*state[0,j]\n",
    "    return -0.5*e"
   ]
  },
  {
   "cell_type": "code",
   "execution_count": 39,
   "metadata": {
    "collapsed": true
   },
   "outputs": [],
   "source": [
    "### Peforms a synchronous update of the neuron weights\n",
    "def scan_update(weight_matrix, state, iterations):\n",
    "    state = np.matrix(state)\n",
    "    for n in range(iterations):\n",
    "        for i in range(9):\n",
    "            previous_state = state\n",
    "            update = vector_threshold(weight_matrix[i]*np.transpose(previous_state))\n",
    "            state[0,i] = update\n",
    "    return state"
   ]
  },
  {
   "cell_type": "code",
   "execution_count": 119,
   "metadata": {
    "collapsed": true
   },
   "outputs": [],
   "source": [
    "### Performs an asynchronous update of the neuron weights in sequential order\n",
    "def async_update(weight_matrix, state, iterations):\n",
    "    state = np.matrix(state)\n",
    "    for n in range(iterations):\n",
    "        u = np.random.randint(9)\n",
    "        update = vector_threshold(weight_matrix[u]*np.transpose(state))\n",
    "        state[0,u] = update\n",
    "    return state"
   ]
  },
  {
   "cell_type": "code",
   "execution_count": 41,
   "metadata": {
    "collapsed": true
   },
   "outputs": [],
   "source": [
    "### Runs the Hopfield network\n",
    "def hopfield(weight_matrix, state, method, iterations):\n",
    "    return method(weight_matrix, state, iterations)"
   ]
  },
  {
   "cell_type": "code",
   "execution_count": 42,
   "metadata": {
    "collapsed": true
   },
   "outputs": [],
   "source": [
    "### Function that determines whether or not a given state is a fixed point of the network\n",
    "def is_fixed_point(state):\n",
    "    state = np.matrix(state)\n",
    "    return (np.sum(state == np.transpose(vector_threshold(weight_matrix*np.transpose(state)))) == 9) == True"
   ]
  },
  {
   "cell_type": "code",
   "execution_count": 43,
   "metadata": {
    "collapsed": true
   },
   "outputs": [],
   "source": [
    "def get_fixed_points(states):\n",
    "    fixed_points = []\n",
    "    for s in states:\n",
    "        if is_fixed_point(s):\n",
    "            fixed_points.append(s)\n",
    "    return fixed_points"
   ]
  },
  {
   "cell_type": "code",
   "execution_count": 44,
   "metadata": {
    "collapsed": true
   },
   "outputs": [],
   "source": [
    "### Q1\n",
    "def experiment_1():\n",
    "    binary_states = [list(i) for i in itertools.product([0, 1], repeat=9)]\n",
    "    fixed_points = get_fixed_points(binary_states)\n",
    "    # For each binary state, test if it is a fixed point of the network\n",
    "    print 'Fixed Points of the Network: '\n",
    "    for s in fixed_points:\n",
    "        print s\n",
    "    print ' '"
   ]
  },
  {
   "cell_type": "code",
   "execution_count": 45,
   "metadata": {
    "collapsed": true
   },
   "outputs": [],
   "source": [
    "### Q2\n",
    "def get_neighbour_states(state):\n",
    "    neighbours = []\n",
    "    for i in range(9):\n",
    "        state_copy = state[:]\n",
    "        state_copy[i] = np.abs(state_copy[i]-1)\n",
    "        neighbours.append(state_copy)\n",
    "    return neighbours"
   ]
  },
  {
   "cell_type": "code",
   "execution_count": 128,
   "metadata": {
    "collapsed": true
   },
   "outputs": [],
   "source": [
    "def experiment_2():\n",
    "    binary_states = [list(i) for i in itertools.product([0, 1], repeat=9)]\n",
    "    fixed_points = get_fixed_points(binary_states)\n",
    "    for s in fixed_points:\n",
    "        neighbours = get_neighbour_states(s)\n",
    "        print 'Energy of Fixed Point: ' + str(s) + ' = ' + str(energy(s))\n",
    "        for n in neighbours:\n",
    "            print 'Energy of Neighbour: ' + str(n) + ' = ' + str(energy(n))\n",
    "        print ' '"
   ]
  },
  {
   "cell_type": "code",
   "execution_count": 120,
   "metadata": {
    "collapsed": true
   },
   "outputs": [],
   "source": [
    "def experiment_3_async():\n",
    "    for ic in [0.5, 1]:\n",
    "        print 'Inhibition Constant = ' + str(ic)\n",
    "        weight_matrix = initialise_weights(ic)\n",
    "        print \"Asynchronous update:\"\n",
    "        for s in init:\n",
    "            print str(s) + ': ' + str(hopfield(weight_matrix, np.matrix(s), async_update, 1000))\n",
    "\n",
    "        fig = plt.figure(figsize=(9, 9))\n",
    "        ax = fig.add_subplot(111)\n",
    "        for s in init:\n",
    "            test_state = s\n",
    "            energy_seq = []\n",
    "            iterations = 100\n",
    "            for i in range(iterations):\n",
    "                test_state = async_update(weight_matrix, test_state, 1)\n",
    "                energy_seq.append(energy(test_state))\n",
    "\n",
    "            x = range(iterations)\n",
    "            ax.plot(x, energy_seq)\n",
    "            ax.legend(['State {0}'.format(i) for i in range(len(init))])\n",
    "\n",
    "        ax.set_xlabel('Iteration')\n",
    "        ax.set_ylabel('Network Energy')\n",
    "        ax.set_title('Network Energy against Iteration number for states in \"init\" (w = '+str(ic)+', async updating)')\n",
    "\n",
    "        plt.show()"
   ]
  },
  {
   "cell_type": "code",
   "execution_count": 113,
   "metadata": {
    "collapsed": true
   },
   "outputs": [],
   "source": [
    "def experiment_3_scan():\n",
    "    for ic in [0.5, 1]:\n",
    "        print 'Inhibition Constant = ' + str(ic)\n",
    "        weight_matrix = initialise_weights(ic)\n",
    "        print \"Scan update:\"\n",
    "        for s in init:\n",
    "            print str(s) + ': ' + str(hopfield(weight_matrix, s, scan_update, 10))\n",
    "\n",
    "        fig = plt.figure(figsize=(9, 9))\n",
    "        ax = fig.add_subplot(111)\n",
    "        for s in init:\n",
    "            test_state = s\n",
    "            energy_seq = []\n",
    "            iterations = 10\n",
    "            for i in range(iterations):\n",
    "                test_state = scan_update(weight_matrix, test_state, 1)\n",
    "                energy_seq.append(energy(test_state))\n",
    "\n",
    "            x = range(iterations)\n",
    "            ax.plot(x, energy_seq)\n",
    "            ax.legend(['State {0}'.format(i) for i in range(len(init))])\n",
    "\n",
    "        ax.set_xlabel('Iteration')\n",
    "        ax.set_ylabel('Network Energy')\n",
    "        ax.set_title('Network Energy against Iteration number for states in \"init\" (w = '+str(ic)+', scan updating)')\n",
    "\n",
    "        plt.show()"
   ]
  },
  {
   "cell_type": "code",
   "execution_count": 114,
   "metadata": {
    "collapsed": false
   },
   "outputs": [],
   "source": [
    "weight_matrix = initialise_weights(1)"
   ]
  },
  {
   "cell_type": "code",
   "execution_count": 115,
   "metadata": {
    "collapsed": false
   },
   "outputs": [
    {
     "name": "stdout",
     "output_type": "stream",
     "text": [
      "Fixed Points of the Network: \n",
      "[0, 0, 0, 0, 0, 0, 0, 0, 0]\n",
      "[0, 0, 0, 1, 1, 1, 0, 0, 0]\n",
      "[0, 1, 0, 0, 1, 0, 0, 1, 0]\n",
      " \n"
     ]
    }
   ],
   "source": [
    "experiment_1()"
   ]
  }
 ],
 "metadata": {
  "kernelspec": {
   "display_name": "Python 2",
   "language": "python",
   "name": "python2"
  },
  "language_info": {
   "codemirror_mode": {
    "name": "ipython",
    "version": 2
   },
   "file_extension": ".py",
   "mimetype": "text/x-python",
   "name": "python",
   "nbconvert_exporter": "python",
   "pygments_lexer": "ipython2",
   "version": "2.7.11"
  }
 },
 "nbformat": 4,
 "nbformat_minor": 0
}
